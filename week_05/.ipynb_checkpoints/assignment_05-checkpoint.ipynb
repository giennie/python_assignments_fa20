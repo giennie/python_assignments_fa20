{
 "cells": [
  {
   "cell_type": "markdown",
   "metadata": {},
   "source": [
    "### Getting into Class\n",
    "This exercise is to get you familiar with the idea of creating your own class object.\n",
    "\n",
    "This will create a generic Student class that we will be able to extend with other class objects.\n",
    "\n",
    "Your Class should be able to create an Student object instance with the following properties\n",
    "\n",
    "- Construct with default attributes for School Name, Student First Name, and Last Name\n",
    "- Methods to update any of these above attributes\n",
    "- An overloaded method for the str() function to return the Student attributes in a string formatted sentence \"{FirstName} {LastName} is a student of {SchoolName}\"\n",
    "\n",
    "You are free to implement this class however you like. The testing code is included below. Don't be afraid to check the [documentation]('https://docs.python.org/3/tutorial/classes.html') or any other resources you would like! Internet searching is a big part of promgramming"
   ]
  },
  {
   "cell_type": "code",
   "execution_count": null,
   "metadata": {},
   "outputs": [],
   "source": [
    "# code here\n",
    "\n",
    "\"\"\"\n",
    "class ClassName:\n",
    "    def __init__(self):\n",
    "        pass\n",
    "\"\"\"\n",
    "\n",
    "class Student:\n",
    "    def __init__(self, school_name, first_name, last_name):\n",
    "        self.school_name = school_name\n",
    "        self.first_name = first_name\n",
    "        self.last_name = last_name\n",
    "    \n",
    "    def updateSchool(self, updated_school_name):\n",
    "        self.school_name = updated_school_name\n",
    "        return self\n",
    "    \n",
    "    def updateFirstName(self, updated_firstname):\n",
    "        self.first_name = updated_firstname\n",
    "        return self\n",
    "    \n",
    "    def updateLasttName(self, updated_lastname):\n",
    "        self.last_name = updated_lastname\n",
    "        return self\n",
    "    \n",
    "    def __str__(self):\n",
    "        reutren '%s %s is a student of %s' %(self.first_name, self.last_name, self.school_name)"
   ]
  },
  {
   "cell_type": "code",
   "execution_count": null,
   "metadata": {},
   "outputs": [],
   "source": [
    "student1 = Student('Parsons', 'Gie', 'Choi')"
   ]
  },
  {
   "cell_type": "code",
   "execution_count": null,
   "metadata": {},
   "outputs": [],
   "source": [
    "print(str(student1))"
   ]
  },
  {
   "cell_type": "code",
   "execution_count": null,
   "metadata": {},
   "outputs": [],
   "source": [
    "student1.updateSchool('nowhere to be found')"
   ]
  },
  {
   "cell_type": "code",
   "execution_count": null,
   "metadata": {},
   "outputs": [],
   "source": [
    "print(str(student1))"
   ]
  },
  {
   "cell_type": "markdown",
   "metadata": {},
   "source": [
    "### Challenges\n",
    "Before looking at any of these specific challenges, look back at the class you've created. Are there features of Students that you think are missing? Go ahead and just try and add them yourself! These can be things like registered classes, graduation year, enrollment status, etc. Anything you can think of! Class flexibility is designed so that your approach reflects your own personal understanding of the problem. But for a more structured challenge read on...\n",
    "\n",
    "The challenges here extend the functionality of the base class. These are in topics of class attributes, magic methods, inheritance, and iteration. Don't be afraid to check python documentation on these problems to look for implementation help! No one codes alone!\n",
    "\n",
    "Class is where your own ideas get to come through as a programmer and designer. So there is no one right way to any of these. Give it your best shot and also be creative!\n",
    "\n",
    "__Challenge #1__ add an class wide attribute student count and give every student an ID\n",
    "Create a Class wide count of students that tracks how many students have been created. Then, usi that attriute to give every student a unique ID.\n",
    "\n",
    "__Challenge #2__ add a behavioral method to the students\n",
    "What kind of behavior should a student have? What do they do? Do they study? Research? Maybe a student can declare a major or focus of study?\n",
    "\n",
    "Implement the method and the appropriate attributes that allows a student to print a statement about themselves. These can be as simple as \"say my own name\" or something like printing the student's favorite faculty member\n",
    "\n",
    "__Challenge #3__ create a subclass called Graduate Student\n",
    "The Graduate student should inherit from the base Student class. How do you think Graduate Students should be differentiated from the base Student? Add your own attribute or methods that you think they should have.\n",
    "\n",
    "__Challenge #4__ Create a School Class that has Students as attributes\n",
    "This is a separate class that is called School that can enroll Students, and graduate students. Maybe it can track its own endowment. This would be a large class that is meant to process these students in some way."
   ]
  },
  {
   "cell_type": "code",
   "execution_count": null,
   "metadata": {},
   "outputs": [],
   "source": [
    "# challenge 1\n",
    "\n",
    "class Student:\n",
    "    \n",
    "    studnetCount = 0\n",
    "    \n",
    "    def __init__(self, school_name, first_name, last_name):\n",
    "        self.school_name = school_name\n",
    "        self.first_name = first_name\n",
    "        self.last_name = last_name\n",
    "        Student.studentCount += 1\n",
    "        self.studentID = student.studentCount\n",
    "    \n",
    "    def updateSchool(self, updated_school_name):\n",
    "        self.school_name = updated_school_name\n",
    "        return self\n",
    "    \n",
    "    def updateFirstName(self, updated_firstname):\n",
    "        self.first_name = updated_firstname\n",
    "        return self\n",
    "    \n",
    "    def updateLasttName(self, updated_lastname):\n",
    "        self.last_name = updated_lastname\n",
    "        return self\n",
    "    \n",
    "    def __str__(self):\n",
    "        reutren '%s %s is a student of %s' %(self.first_name, self.last_name, self.school_name)"
   ]
  },
  {
   "cell_type": "code",
   "execution_count": null,
   "metadata": {},
   "outputs": [],
   "source": [
    "student1 = Student('Parsons', 'Gie', 'Choi')"
   ]
  },
  {
   "cell_type": "code",
   "execution_count": null,
   "metadata": {},
   "outputs": [],
   "source": [
    "student2 = Student('Parsons', 'Yoonjin', 'Bae')"
   ]
  },
  {
   "cell_type": "code",
   "execution_count": null,
   "metadata": {},
   "outputs": [],
   "source": [
    "student1.studentID"
   ]
  },
  {
   "cell_type": "code",
   "execution_count": null,
   "metadata": {},
   "outputs": [],
   "source": [
    "student2.studentID"
   ]
  },
  {
   "cell_type": "code",
   "execution_count": null,
   "metadata": {},
   "outputs": [],
   "source": [
    "# challenge 2\n",
    "\n",
    "class Student:\n",
    "    \n",
    "    studnetCount = 0\n",
    "    \n",
    "    def __init__(self, school_name, first_name, last_name):\n",
    "        self.school_name = school_name\n",
    "        self.first_name = first_name\n",
    "        self.last_name = last_name\n",
    "        Student.studentCount += 1\n",
    "        self.studentID = student.studentCount\n",
    "    \n",
    "    def updateSchool(self, updated_school_name):\n",
    "        self.school_name = updated_school_name\n",
    "        return self\n",
    "    \n",
    "    def updateFirstName(self, updated_firstname):\n",
    "        self.first_name = updated_firstname\n",
    "        return self\n",
    "    \n",
    "    def updateLasttName(self, updated_lastname):\n",
    "        self.last_name = updated_lastname\n",
    "        return self\n",
    "    \n",
    "    def setCatchPhrase(self, phrase):\n",
    "        self.catchPhrase = phrase\n",
    "    \n",
    "    def sayCathPhrase(self):\n",
    "        print(self.catchPhrase)\n",
    "    \n",
    "    def __str__(self):\n",
    "        reutren '%s %s is a student of %s' %(self.first_name, self.last_name, self.school_name)"
   ]
  },
  {
   "cell_type": "code",
   "execution_count": null,
   "metadata": {},
   "outputs": [],
   "source": [
    "student1 = Student('Parsons', 'Gie', 'Choi')"
   ]
  },
  {
   "cell_type": "code",
   "execution_count": null,
   "metadata": {},
   "outputs": [],
   "source": [
    "student1.setCatchPhrase(\"It's over for you!\")"
   ]
  },
  {
   "cell_type": "code",
   "execution_count": null,
   "metadata": {},
   "outputs": [],
   "source": [
    "studnet1.sayCatchPhrase()"
   ]
  },
  {
   "cell_type": "code",
   "execution_count": null,
   "metadata": {},
   "outputs": [],
   "source": [
    "# challenge 3\n",
    "\n",
    "class GradStudent(studnet):\n",
    "    \n",
    "    studentCount = 0\n",
    "    \n",
    "    def __init__(self, school_name, program_type, first_name, last_name):\n",
    "        super().__init__(school_name, first_name, last_name)\n",
    "        self.program_type = program_type\n",
    "        GradStudent.studentCount += 1\n",
    "        \n",
    "        \n",
    "    def sayProgram(self):\n",
    "        print('I am a %s student' %(self.program_type))\n",
    "        "
   ]
  },
  {
   "cell_type": "code",
   "execution_count": null,
   "metadata": {},
   "outputs": [],
   "source": [
    "student4 = GradStudent('Parsons', 'MFADT', 'Gie', 'Choi')"
   ]
  },
  {
   "cell_type": "code",
   "execution_count": null,
   "metadata": {},
   "outputs": [],
   "source": [
    "print(GradStudent.studentCount)"
   ]
  },
  {
   "cell_type": "code",
   "execution_count": null,
   "metadata": {},
   "outputs": [],
   "source": [
    "print(Student.studentCount)"
   ]
  },
  {
   "cell_type": "code",
   "execution_count": null,
   "metadata": {},
   "outputs": [],
   "source": [
    "# challenge 4\n",
    "\n",
    "class School:\n",
    "    \n",
    "    def __init__(self, name):\n",
    "        self.name = name\n",
    "        self.students = []\n",
    "        return None\n",
    "    \n",
    "    def AddStudent(self, student):\n",
    "        self.student.append(student)\n",
    "        return self\n",
    "    \n",
    "    def GetStudent(self):\n",
    "        for student in self.studnets:\n",
    "            print(str(student))\n",
    "        return None"
   ]
  },
  {
   "cell_type": "code",
   "execution_count": null,
   "metadata": {},
   "outputs": [],
   "source": [
    "parsons = School('Parsons')"
   ]
  },
  {
   "cell_type": "code",
   "execution_count": null,
   "metadata": {},
   "outputs": [],
   "source": [
    "parsons.AddStudent(student1)"
   ]
  },
  {
   "cell_type": "code",
   "execution_count": null,
   "metadata": {},
   "outputs": [],
   "source": [
    "parsons.AddStudent(student2)"
   ]
  },
  {
   "cell_type": "code",
   "execution_count": null,
   "metadata": {},
   "outputs": [],
   "source": [
    "parsons.GetStudent()"
   ]
  }
 ],
 "metadata": {
  "kernelspec": {
   "display_name": "Python 3",
   "language": "python",
   "name": "python3"
  },
  "language_info": {
   "codemirror_mode": {
    "name": "ipython",
    "version": 3
   },
   "file_extension": ".py",
   "mimetype": "text/x-python",
   "name": "python",
   "nbconvert_exporter": "python",
   "pygments_lexer": "ipython3",
   "version": "3.8.3"
  }
 },
 "nbformat": 4,
 "nbformat_minor": 4
}
