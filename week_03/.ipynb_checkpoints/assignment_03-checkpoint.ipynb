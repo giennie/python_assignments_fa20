{
 "cells": [
  {
   "cell_type": "markdown",
   "metadata": {},
   "source": [
    "### Exercise 1: \n",
    "Study the following code and create your own mad-libs generator (please don't copy the example)"
   ]
  },
  {
   "cell_type": "markdown",
   "metadata": {},
   "source": [
    "### A Mad-Libs invitation generator\n",
    "\n",
    "Mad-Libs is a phrasal template word game where one player prompts others for a list of words to <b>substitute</b> for blanks in a story.\n",
    "\n",
    "We are going to create an event `invitation function` that would allow us to automate creating copies of event invitations.\n",
    "\n",
    "<span style=\"color:tomato\">The invitation template</span>:\n",
    "```\n",
    "    Hey, _guestname_!\n",
    "    You are invited to a _type_of_event_! Join us on _date_ at _location_!\n",
    "    Bring _items_.\n",
    "    \n",
    "    Best,\n",
    "    Party bear\n",
    "    \n",
    "```\n",
    "\n",
    "<span style=\"color:tomato\">An example output</span>:\n",
    "```\n",
    "    Hey, Sven!\n",
    "    You are invited to a gathering! Join us on dn2 yluJ at erauqS noinU!\n",
    "    Bring beverages, games, signs, masks, and facecovers.\n",
    "\n",
    "    Best,\n",
    "    Party bear\n",
    "```"
   ]
  },
  {
   "cell_type": "code",
   "execution_count": null,
   "metadata": {},
   "outputs": [],
   "source": [
    "# EXAMPLE GENERATOR\n",
    "\n",
    "import random\n",
    "def event(namelist, event_type, date, loc, items):\n",
    "    \"\"\"\n",
    "        This function takes event information input, parse them and turn them into\n",
    "        a formatted invitation that's ready to be duplicate and populate.\n",
    "    \"\"\"\n",
    "    # outputs a random item from the list\n",
    "    def getRand(list):\n",
    "        return random.choice(list)\n",
    "    \n",
    "    # formats all outputs form a list as 'a, b, and c'\n",
    "    def getAll(li):\n",
    "        return ', '.join(li[:-1]) + \", and %s\" %(li[-1])\n",
    "    \n",
    "  \n",
    "    # variables needed:\n",
    "    guestlist = namelist\n",
    "    type_of_event = event_type\n",
    "    date = date[::-1]\n",
    "    location = loc[::-1] # a simple reversed encrption\n",
    "    items = items\n",
    "    invite_template = '''\n",
    "            Hey %s:\n",
    "            You are invited to a %s! Join us on %s at %s!\n",
    "            Bring %s.\n",
    "\n",
    "            Best,\n",
    "            Party bear\n",
    "\n",
    "            ---\n",
    "        ''' \n",
    "    \n",
    "    # loop through all guest tuples in the guestlist\n",
    "    # populate our invitations\n",
    "    for guests in guestlist:\n",
    "        print(invite_template % (guests,\n",
    "                                 type_of_event,\n",
    "                                 date,\n",
    "                                 location,\n",
    "                                 getAll(items)# try getRand()\n",
    "                                ))"
   ]
  },
  {
   "cell_type": "code",
   "execution_count": null,
   "metadata": {},
   "outputs": [],
   "source": [
    "guests = (\"Bob\",\"Mary & Friends\",\"Lan\",\"Anna\",\"Sven and friends\",\"Jason\")\n",
    "items = ['beverages','games','signs',\"masks\",\"facecovers\"]\n",
    "\n",
    "# call the generator function to populate invitations:\n",
    "event(guests, \"gathering\", \"July 2nd\", \"Union Square\", items)"
   ]
  },
  {
   "cell_type": "code",
   "execution_count": null,
   "metadata": {},
   "outputs": [],
   "source": [
    "# Exercise 1 Code Here:\n",
    "\n",
    "import random\n",
    "def event(namelist, event_type, date, loc, items):\n",
    "    \"\"\"\n",
    "        This function takes event information input, parse them and turn them into\n",
    "        a formatted invitation that's ready to be duplicate and populate.\n",
    "    \"\"\"\n",
    "    def getRand(list):\n",
    "        return random.choice(list)\n",
    "\n",
    "    def getAll(li):\n",
    "        return ', '.join(li[:-1]) + \", and %s\" %(li[-1])\n",
    "\n",
    "    guestlist = [\"Bob\",\"Mary & Friends\",\"Lan\",\"Anna\",\"Sven and friends\",\"Jason\"]\n",
    "    type_of_event = [guests, \"gathering\", \"July 2nd\", \"Union Square\", items]\n",
    "    items = ['beverages','games','signs',\"masks\",\"facecovers\"]\n",
    "    invite_template = '''\n",
    "            Hello %s:\n",
    "            You are invited to a %s on %s at %s!\n",
    "            Also don't forget to bring %s.\n",
    "\n",
    "            Kind regards,\n",
    "            Gie\n",
    "        ''' \n",
    "    \n",
    "    for guests in guestlist:\n",
    "        print(invite_template % (guests,\n",
    "                                 type_of_event,\n",
    "                                 getAll(items)\n",
    "                                ))"
   ]
  },
  {
   "cell_type": "markdown",
   "metadata": {},
   "source": [
    "### Exercise 2: \n",
    "\n",
    "### What is a palindrome?\n",
    "A palindrome is a word or phrase that is spelled the same forwards as backwards, like:\n",
    "\n",
    "```\n",
    "wow\n",
    "Anna\n",
    "race car\n",
    "Was it a cat I saw?\n",
    "```\n",
    "\n",
    "Create a function that checks whether or not a given phrase is a palindrome. Here's the plan:\n",
    "* Our function will be called `isPalindrome()`.\n",
    "* It will accept one **argument** called `txt`, which is a string.\n",
    "* It will print True if `txt` is a palindrome or `False` if `txt`\n",
    "  is not a palindrome.\n",
    "\n",
    "### Test your function along the way\n",
    "We will use the following test cases to guide us:\n",
    "\n",
    "The following should all return `True`:\n",
    "```\n",
    "isPalindrome('wow')\n",
    "isPalindrome('12a3a21')\n",
    "isPalindrome('Anna')\n",
    "isPalindrome('race car')\n",
    "isPalindrome('Was it a cat I saw?')\n",
    "```\n",
    "\n",
    "The following should all return `False`:\n",
    "```\n",
    "isPalindrome('wowza')\n",
    "isPalindrome('123a21')\n",
    "isPalindrome('<3 mom <3')\n",
    "```\n",
    "\n",
    "### Things to Consider:\n",
    " - Make everything lowercase.\n",
    " - Replace all spaces with an empty string\n",
    " - Replace all spaces with an empty string\n",
    " - How would we spell a word backwards or forwards?"
   ]
  },
  {
   "cell_type": "code",
   "execution_count": null,
   "metadata": {},
   "outputs": [],
   "source": [
    "# Exercise 2 Code Here:\n",
    "\n",
    "my_string = \"wow\"\n",
    "my_string = \"12a3a21\"\n",
    "my_string = \"Anna\"\n",
    "my_string = \"race car\"\n",
    "my_string = \"'Was it a cat I saw?''\"\n",
    "my_string = \"wowza\"\n",
    "my_string = \"123a21\"\n",
    "my_string = \"''<3 mom <3'\"\n",
    "\n",
    "print(my_string.isalnum())"
   ]
  },
  {
   "cell_type": "markdown",
   "metadata": {},
   "source": [
    "### Exercise 3: \n",
    "Create a dataset of your own using using a dictionary and make a simple visualization with it. Branch out and see what types of graphs you could use here: https://matplotlib.org/ . Don't be shy to Google things you don't know!!!"
   ]
  },
  {
   "cell_type": "code",
   "execution_count": null,
   "metadata": {},
   "outputs": [],
   "source": [
    "import matplotlib\n",
    "import matplotlib.pyplot as plt"
   ]
  },
  {
   "cell_type": "code",
   "execution_count": 1,
   "metadata": {},
   "outputs": [
    {
     "data": {
      "image/png": "[encoded data removed]",
      "text/plain": [
       "<Figure size 432x288 with 1 Axes>"
      ]
     },
     "metadata": {
      "needs_background": "light"
     },
     "output_type": "display_data"
    },
    {
     "data": {
      "text/plain": [
       "[<matplotlib.lines.Line2D at 0x7fea7e5ae7f0>]"
      ]
     },
     "execution_count": 1,
     "metadata": {},
     "output_type": "execute_result"
    },
    {
     "data": {
      "image/png": "[encoded data removed]",
      "text/plain": [
       "<Figure size 432x288 with 1 Axes>"
      ]
     },
     "metadata": {
      "needs_background": "light"
     },
     "output_type": "display_data"
    }
   ],
   "source": [
    "# Exercise 3 Code Here:\n",
    "\n",
    "import matplotlib.pyplot as plt\n",
    "plt.plot([1, 2, 3, 4])\n",
    "plt.ylabel('some numbers')\n",
    "plt.show()\n",
    "\n",
    "plt.plot([1, 2, 3, 4], [1, 4, 9, 16])"
   ]
  },
  {
   "cell_type": "code",
   "execution_count": null,
   "metadata": {},
   "outputs": [],
   "source": []
  }
 ],
 "metadata": {
  "kernelspec": {
   "display_name": "Python 3",
   "language": "python",
   "name": "python3"
  },
  "language_info": {
   "codemirror_mode": {
    "name": "ipython",
    "version": 3
   },
   "file_extension": ".py",
   "mimetype": "text/x-python",
   "name": "python",
   "nbconvert_exporter": "python",
   "pygments_lexer": "ipython3",
   "version": "3.8.3"
  }
 },
 "nbformat": 4,
 "nbformat_minor": 4
}
