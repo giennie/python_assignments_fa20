{
 "cells": [
  {
   "cell_type": "markdown",
   "metadata": {},
   "source": [
    "### Assignment 1: Create your own calculator!"
   ]
  },
  {
   "cell_type": "markdown",
   "metadata": {},
   "source": [
    "Before we actually code in Python, please write out how you might build this with code in plain English (pseudocoding!). Pseudocode is an important part of programming and is used in planning an algorithm with sketching out the structure of the program before the actual coding takes place."
   ]
  },
  {
   "cell_type": "code",
   "execution_count": null,
   "metadata": {},
   "outputs": [],
   "source": [
    "# example psuedocode:\n",
    "# 1. A calculator will take in numbers that we want to use the operators on. So we want store user input\n",
    "# in variables. The first variable will store the first number, the second one will store the second number, \n",
    "# and the third will store the mathematical operator the user wants to perform on these numbers."
   ]
  },
  {
   "cell_type": "markdown",
   "metadata": {},
   "source": [
    "__Using conditionals, operators, and functions, try creating a working calculator! We will go over the solution next week.__\n",
    "\n",
    "_Things to consider:_\n",
    "\n",
    "<li>You may want to ask for user input: use the Python input() method. If you're asking for numbers, you may need to change the input value from a string to a number. Consider using int(x) and float(x) to do so.</li>\n",
    "<li>Use the operators with the conditionals we learned in class! Ex) if user_input == '*': print(x * y) </li>\n",
    "<li>Use if...elif conditionals!</li>\n",
    "<li>Before you put your code into a function for reusability purposes, hard code first to make sure your logic is working</li>\n",
    "<li>Keep it simple and use the four operators we went over in class: +, -, *, /</li>"
   ]
  },
  {
   "cell_type": "code",
   "execution_count": null,
   "metadata": {},
   "outputs": [],
   "source": [
    "# code down here:\n",
    "\n",
    "#This week we were asked to create a simple calculator.\n",
    "\n",
    "x = int(input(\"please enter the first number : \")) \n",
    "y = int(input(\"please enter the second number : \")) \n",
    "operator = input(\"please neter the operator: \")\n",
    "\n",
    "if operator == \"*\": \n",
    "    print(x * y) \n",
    "elif operator == \"+\": \n",
    "    print(x + y) \n",
    "elif operator == \"-\": \n",
    "    print(x - y)\n",
    "elif operator == \"/\": \n",
    "    print (x / y) \n",
    "else: \n",
    "    print(\"Invalid operator, please try again!\")"
   ]
  },
  {
   "cell_type": "code",
   "execution_count": null,
   "metadata": {},
   "outputs": [],
   "source": [
    "def calculate():\n",
    "    operation = input('''\n",
    "        please type in the math operation you would like to complete:\n",
    "        + for addition\n",
    "        - for subtraction\n",
    "        * for multiplication\n",
    "        / for division\n",
    "    ''')\n",
    "    num_1 = input('Please enter the first number: ')\n",
    "    num_2 = input('Please enter the second number: ')\n",
    "    \n",
    "    if operation == \"+\":\n",
    "        print(num_1, '+', num_2, \":\", int(num_1) + int(num_2))\n",
    "    elif operation == \"-\":\n",
    "        print(num_1, '-', num_2, \":\", int(num_1) - int(num_2))\n",
    "    elif operation == \"*\":\n",
    "        print(num_1, '*', num_2, \":\", int(num_1) * int(num_2))\n",
    "    elif operation == \"/\":\n",
    "        print(num_1, '/', num_2, \":\", int(num_1) / int(num_2))\n",
    "    else:\n",
    "        print(\"wrong operator, try again!\")"
   ]
  },
  {
   "cell_type": "code",
   "execution_count": null,
   "metadata": {},
   "outputs": [],
   "source": [
    "for x in range(11):\n",
    "    calculate()"
   ]
  }
 ],
 "metadata": {
  "kernelspec": {
   "display_name": "Python 3",
   "language": "python",
   "name": "python3"
  },
  "language_info": {
   "codemirror_mode": {
    "name": "ipython",
    "version": 3
   },
   "file_extension": ".py",
   "mimetype": "text/x-python",
   "name": "python",
   "nbconvert_exporter": "python",
   "pygments_lexer": "ipython3",
   "version": "3.8.3"
  }
 },
 "nbformat": 4,
 "nbformat_minor": 4
}
